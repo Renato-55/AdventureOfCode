{
  "nbformat": 4,
  "nbformat_minor": 0,
  "metadata": {
    "colab": {
      "provenance": [],
      "authorship_tag": "ABX9TyPJatZaDXAPmuM9sXWNRc53",
      "include_colab_link": true
    },
    "kernelspec": {
      "name": "python3",
      "display_name": "Python 3"
    },
    "language_info": {
      "name": "python"
    }
  },
  "cells": [
    {
      "cell_type": "markdown",
      "metadata": {
        "id": "view-in-github",
        "colab_type": "text"
      },
      "source": [
        "<a href=\"https://colab.research.google.com/github/Renato-55/AdventureOfCode/blob/main/2022_Day8.ipynb\" target=\"_parent\"><img src=\"https://colab.research.google.com/assets/colab-badge.svg\" alt=\"Open In Colab\"/></a>"
      ]
    },
    {
      "cell_type": "code",
      "execution_count": 17,
      "metadata": {
        "id": "MQL2LJNIW-Xu"
      },
      "outputs": [],
      "source": [
        "l = [\n",
        "    [3,0,3,7,3],\n",
        "    [2,5,5,1,2], \n",
        "    [6,5,3,3,2],\n",
        "    [3,3,5,4,9],\n",
        "    [3,5,3,9,0]\n",
        "]"
      ]
    },
    {
      "cell_type": "code",
      "source": [
        "print(l)"
      ],
      "metadata": {
        "colab": {
          "base_uri": "https://localhost:8080/"
        },
        "id": "yVhbjytpXUdk",
        "outputId": "07b92eef-99d2-48de-acf8-06dfe316c155"
      },
      "execution_count": 18,
      "outputs": [
        {
          "output_type": "stream",
          "name": "stdout",
          "text": [
            "[[3, 0, 3, 7, 3], [2, 5, 5, 1, 2], [6, 5, 3, 3, 2], [3, 3, 5, 4, 9], [3, 5, 3, 9, 0]]\n"
          ]
        }
      ]
    },
    {
      "cell_type": "code",
      "source": [
        "def visible_from_left(_i,_j,data):\n",
        "  #print(\"left : \")\n",
        "  for j in range(0,_j):\n",
        "    #print(data[_i][j])\n",
        "    if data[_i][j] >= data[_i][_j]:\n",
        "      return 0\n",
        "  return 1\n",
        "\n",
        "def visible_from_right(_i,_j,data):\n",
        "  #print(\"right : \")\n",
        "  for j in range(_j+1,len(data)):\n",
        "    #print(data[_i][j])\n",
        "    if data[_i][j] >= data[_i][_j]:\n",
        "      return 0\n",
        "  return 1\n",
        "\n",
        "def visible_from_up(_i,_j,data):\n",
        "  #print(\"up : \")\n",
        "  for i in range(0,_i):\n",
        "    #print(data[i][_j])\n",
        "    if data[i][_j] >= data[_i][_j]:\n",
        "      return 0\n",
        "  return 1\n",
        "\n",
        "def visible_from_down(_i,_j,data):\n",
        "  #print(\"down : \")\n",
        "  for i in range(_i+1,len(data[0])):\n",
        "    #print(data[i][_j])\n",
        "    if data[i][_j] >= data[_i][_j]:\n",
        "      return 0\n",
        "  return 1\n",
        "\n",
        "def count_visible_trees(data):\n",
        "  count = len(data)*2 + len(data[0])*2 - 4# outside trees \n",
        "\n",
        "  # we need to count the inside grid trees\n",
        "  for i in range(1,len(data)-1):\n",
        "    for j in range(1,len(data[0])-1):\n",
        "      # each tree can be visible from the left, right, down and top\n",
        "      if ((visible_from_left(i,j,data) or visible_from_right(i,j,data) or visible_from_up(i,j,data) or visible_from_down(i,j,data))):\n",
        "        count += 1\n",
        "  return count \n",
        "\n",
        "\n",
        "count = count_visible_trees(l)\n",
        "count"
      ],
      "metadata": {
        "colab": {
          "base_uri": "https://localhost:8080/"
        },
        "id": "iA2Lgd6kYtOj",
        "outputId": "c7933dcc-1484-4ae5-ac55-9f5aad8474f3"
      },
      "execution_count": 19,
      "outputs": [
        {
          "output_type": "execute_result",
          "data": {
            "text/plain": [
              "21"
            ]
          },
          "metadata": {},
          "execution_count": 19
        }
      ]
    },
    {
      "cell_type": "code",
      "source": [
        "f = open(\"/content/Day8.txt\", \"r\")\n",
        "awnsers = []\n",
        "for x in f:\n",
        "  numbers = [int(_x) for _x in x.replace(\"\\n\",\"\")]\n",
        "  awnsers.append(numbers)\n",
        "\n",
        "\n",
        "count = count_visible_trees(awnsers)\n",
        "count"
      ],
      "metadata": {
        "colab": {
          "base_uri": "https://localhost:8080/"
        },
        "id": "-BchkWK8YTFV",
        "outputId": "fccba3c0-77bf-4563-a643-247b36dede77"
      },
      "execution_count": 20,
      "outputs": [
        {
          "output_type": "execute_result",
          "data": {
            "text/plain": [
              "1681"
            ]
          },
          "metadata": {},
          "execution_count": 20
        }
      ]
    },
    {
      "cell_type": "code",
      "source": [
        "def n_visible_from_left(_i,_j,data):\n",
        "  count = 0\n",
        "  for j in range(1,_j+1):\n",
        "    if data[_i][_j - j] >= data[_i][_j]:\n",
        "      return count + 1\n",
        "    else:\n",
        "      count += 1\n",
        "  return count\n",
        "\n",
        "def n_visible_from_right(_i,_j,data):\n",
        "  count = 0\n",
        "  for j in range(_j+1,len(data)):\n",
        "    if data[_i][j] >= data[_i][_j]:\n",
        "      return count + 1\n",
        "    else:\n",
        "      count += 1\n",
        "  return count\n",
        "\n",
        "def n_visible_from_up(_i,_j,data):\n",
        "  count = 0\n",
        "  for i in range(1,_i+1):\n",
        "    if data[_i - i][_j] >= data[_i][_j]:\n",
        "      return count + 1\n",
        "    else:\n",
        "      count += 1\n",
        "  return count\n",
        "\n",
        "def n_visible_from_down(_i,_j,data):\n",
        "  count = 0\n",
        "  for i in range(_i+1,len(data[0])):\n",
        "    if data[i][_j] >= data[_i][_j]:\n",
        "      return count + 1\n",
        "    else:\n",
        "      count += 1\n",
        "  return count\n",
        "\n",
        "def best_tree_points(data):\n",
        "  max = 0\n",
        "  # we need to count the inside grid trees\n",
        "  for i in range(1,len(data)-1):\n",
        "    for j in range(1,len(data[0])-1):\n",
        "      tree_points = n_visible_from_left(i,j,data) * n_visible_from_right(i,j,data) * n_visible_from_up(i,j,data) * n_visible_from_down(i,j,data)\n",
        "      max = tree_points if tree_points > max else max\n",
        "  return max \n",
        "\n",
        "best_tree = best_tree_points(l)\n",
        "best_tree"
      ],
      "metadata": {
        "colab": {
          "base_uri": "https://localhost:8080/"
        },
        "id": "6TCRlcjBimy9",
        "outputId": "22df66a7-93bf-4b70-fff9-3456fed6727f"
      },
      "execution_count": 21,
      "outputs": [
        {
          "output_type": "execute_result",
          "data": {
            "text/plain": [
              "8"
            ]
          },
          "metadata": {},
          "execution_count": 21
        }
      ]
    },
    {
      "cell_type": "code",
      "source": [
        "best_tree = best_tree_points(awnsers)\n",
        "best_tree"
      ],
      "metadata": {
        "colab": {
          "base_uri": "https://localhost:8080/"
        },
        "id": "Ps8vFkX01yc5",
        "outputId": "736cdde3-f94d-403b-f8aa-c291cdc7f970"
      },
      "execution_count": 22,
      "outputs": [
        {
          "output_type": "execute_result",
          "data": {
            "text/plain": [
              "201684"
            ]
          },
          "metadata": {},
          "execution_count": 22
        }
      ]
    }
  ]
}