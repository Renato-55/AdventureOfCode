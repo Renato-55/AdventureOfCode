{
  "nbformat": 4,
  "nbformat_minor": 0,
  "metadata": {
    "colab": {
      "provenance": [],
      "authorship_tag": "ABX9TyNQMKiW6+HxPuT2ecwzOCwm",
      "include_colab_link": true
    },
    "kernelspec": {
      "name": "python3",
      "display_name": "Python 3"
    },
    "language_info": {
      "name": "python"
    }
  },
  "cells": [
    {
      "cell_type": "markdown",
      "metadata": {
        "id": "view-in-github",
        "colab_type": "text"
      },
      "source": [
        "<a href=\"https://colab.research.google.com/github/Renato-55/AdventureOfCode/blob/main/2022_Day8.ipynb\" target=\"_parent\"><img src=\"https://colab.research.google.com/assets/colab-badge.svg\" alt=\"Open In Colab\"/></a>"
      ]
    },
    {
      "cell_type": "code",
      "execution_count": 2,
      "metadata": {
        "id": "MQL2LJNIW-Xu"
      },
      "outputs": [],
      "source": [
        "l = [\n",
        "    [3,0,3,7,3],\n",
        "    [2,5,5,1,2], \n",
        "    [6,5,3,3,2],\n",
        "    [3,3,5,4,9],\n",
        "    [3,5,3,9,0]\n",
        "]"
      ]
    },
    {
      "cell_type": "code",
      "source": [
        "print(l)"
      ],
      "metadata": {
        "colab": {
          "base_uri": "https://localhost:8080/"
        },
        "id": "yVhbjytpXUdk",
        "outputId": "5dd47d4f-ca0f-4e7f-af43-933f3c6e236c"
      },
      "execution_count": 3,
      "outputs": [
        {
          "output_type": "stream",
          "name": "stdout",
          "text": [
            "[[3, 0, 3, 7, 3], [2, 5, 5, 1, 2], [6, 5, 3, 3, 2], [3, 3, 5, 4, 9], [3, 5, 3, 9, 0]]\n"
          ]
        }
      ]
    },
    {
      "cell_type": "code",
      "source": [
        "count = 0\n",
        "for i in range(0,len(l)):\n",
        "  number = []\n",
        "  for j in range(0,len(l)):\n",
        "    up,down,right,left = j-1,j+1,i+1,i-1\n",
        "    number.append(l[i][j])\n",
        "  print(number)"
      ],
      "metadata": {
        "colab": {
          "base_uri": "https://localhost:8080/"
        },
        "id": "U01G6JycXdCr",
        "outputId": "3a230456-65b5-4dcb-ad04-29312eaa6129"
      },
      "execution_count": 30,
      "outputs": [
        {
          "output_type": "stream",
          "name": "stdout",
          "text": [
            "[3, 0, 3, 7, 3]\n",
            "[2, 5, 5, 1, 2]\n",
            "[6, 5, 3, 3, 2]\n",
            "[3, 3, 5, 4, 9]\n",
            "[3, 5, 3, 9, 0]\n"
          ]
        }
      ]
    },
    {
      "cell_type": "code",
      "source": [
        "def visible_from_left(_i,_j,data):\n",
        "  #print(\"left : \")\n",
        "  for j in range(0,_j):\n",
        "    #print(data[_i][j])\n",
        "    if data[_i][j] >= data[_i][_j]:\n",
        "      return 0\n",
        "  return 1\n",
        "\n",
        "def visible_from_right(_i,_j,data):\n",
        "  #print(\"right : \")\n",
        "  for j in range(_j+1,len(data)):\n",
        "    #print(data[_i][j])\n",
        "    if data[_i][j] >= data[_i][_j]:\n",
        "      return 0\n",
        "  return 1\n",
        "\n",
        "def visible_from_up(_i,_j,data):\n",
        "  #print(\"up : \")\n",
        "  for i in range(0,_i):\n",
        "    #print(data[i][_j])\n",
        "    if data[i][_j] >= data[_i][_j]:\n",
        "      return 0\n",
        "  return 1\n",
        "\n",
        "def visible_from_down(_i,_j,data):\n",
        "  #print(\"down : \")\n",
        "  for i in range(_i+1,len(data[0])):\n",
        "    #print(data[i][_j])\n",
        "    if data[i][_j] >= data[_i][_j]:\n",
        "      return 0\n",
        "  return 1\n",
        "\n",
        "def count_visible_trees(data):\n",
        "  count = len(data)*2 + len(data[0])*2 - 4# outside trees \n",
        "  print(count)\n",
        "\n",
        "  # we need to count the inside grid trees\n",
        "  for i in range(1,len(data)-1):\n",
        "    for j in range(1,len(data[0])-1):\n",
        "      # each tree can be visible from the left, right, down and top\n",
        "      if ((visible_from_left(i,j,data) or visible_from_right(i,j,data) or visible_from_up(i,j,data) or visible_from_down(i,j,data))):\n",
        "        count += 1\n",
        "  return count \n",
        "\n",
        "\n",
        "count = count_visible_trees(l)\n",
        "count"
      ],
      "metadata": {
        "colab": {
          "base_uri": "https://localhost:8080/"
        },
        "id": "iA2Lgd6kYtOj",
        "outputId": "a2caca65-78d0-4635-9064-bcbc75fd2f2f"
      },
      "execution_count": 53,
      "outputs": [
        {
          "output_type": "stream",
          "name": "stdout",
          "text": [
            "16\n"
          ]
        },
        {
          "output_type": "execute_result",
          "data": {
            "text/plain": [
              "21"
            ]
          },
          "metadata": {},
          "execution_count": 53
        }
      ]
    },
    {
      "cell_type": "code",
      "source": [
        "f = open(\"/content/Day8.txt\", \"r\")\n",
        "awnsers = []\n",
        "for x in f:\n",
        "  numbers = [int(_x) for _x in x.replace(\"\\n\",\"\")]\n",
        "  awnsers.append(numbers)\n",
        "\n",
        "\n",
        "count = count_visible_trees(awnsers)\n",
        "count"
      ],
      "metadata": {
        "colab": {
          "base_uri": "https://localhost:8080/"
        },
        "id": "-BchkWK8YTFV",
        "outputId": "7d769262-9905-4254-e707-cf5f70fdf462"
      },
      "execution_count": 60,
      "outputs": [
        {
          "output_type": "stream",
          "name": "stdout",
          "text": [
            "392\n"
          ]
        },
        {
          "output_type": "execute_result",
          "data": {
            "text/plain": [
              "1681"
            ]
          },
          "metadata": {},
          "execution_count": 60
        }
      ]
    },
    {
      "cell_type": "code",
      "source": [
        "def n_visible_from_left(_i,_j,data):\n",
        "  count = 0\n",
        "  for j in range(0,_j):\n",
        "    if data[_i][j] >= data[_i][_j]:\n",
        "      return count + 1\n",
        "    else:\n",
        "      count += 1\n",
        "  return count\n",
        "\n",
        "def n_visible_from_right(_i,_j,data):\n",
        "  count = 0\n",
        "  for j in range(_j+1,len(data)):\n",
        "    if data[_i][j] >= data[_i][_j]:\n",
        "      return count + 1\n",
        "    else:\n",
        "      count += 1\n",
        "  return count\n",
        "\n",
        "def n_visible_from_up(_i,_j,data):\n",
        "  count = 0\n",
        "  for i in range(0,_i):\n",
        "    if data[i][_j] >= data[_i][_j]:\n",
        "      return count + 1\n",
        "    else:\n",
        "      count += 1\n",
        "  return count\n",
        "\n",
        "def n_visible_from_down(_i,_j,data):\n",
        "  count = 0\n",
        "  for i in range(_i+1,len(data[0])):\n",
        "    if data[i][_j] >= data[_i][_j]:\n",
        "      return count + 1\n",
        "    else:\n",
        "      count += 1\n",
        "  return count\n",
        "\n",
        "def best_tree_points(data):\n",
        "  max = 0\n",
        "  # we need to count the inside grid trees\n",
        "  for i in range(1,len(data)-1):\n",
        "    for j in range(1,len(data[0])-1):\n",
        "      tree_points = n_visible_from_left(i,j,data) * n_visible_from_right(i,j,data) * n_visible_from_up(i,j,data) * n_visible_from_down(i,j,data)\n",
        "      tree_points = [n_visible_from_up(i,j,data) , n_visible_from_left(i,j,data) , n_visible_from_down(i,j,data) , n_visible_from_right(i,j,data)]\n",
        "      print(data[i][j], tree_points)\n",
        "      #max = tree_points if tree_points > max else max\n",
        "  return max \n",
        "\n",
        "best_tree = best_tree_points(l)\n",
        "best_tree"
      ],
      "metadata": {
        "colab": {
          "base_uri": "https://localhost:8080/"
        },
        "id": "6TCRlcjBimy9",
        "outputId": "fc8eb839-192f-488c-fa48-41f95afc3b7e"
      },
      "execution_count": 69,
      "outputs": [
        {
          "output_type": "stream",
          "name": "stdout",
          "text": [
            "5 [1, 1, 1, 1]\n",
            "5 [1, 2, 2, 2]\n",
            "1 [1, 1, 1, 1]\n",
            "5 [2, 1, 2, 3]\n",
            "3 [1, 1, 1, 1]\n",
            "3 [1, 1, 1, 1]\n",
            "3 [2, 1, 1, 1]\n",
            "5 [2, 2, 1, 2]\n",
            "4 [1, 3, 1, 1]\n"
          ]
        },
        {
          "output_type": "execute_result",
          "data": {
            "text/plain": [
              "0"
            ]
          },
          "metadata": {},
          "execution_count": 69
        }
      ]
    },
    {
      "cell_type": "code",
      "source": [],
      "metadata": {
        "id": "rW77E0YBkWj7"
      },
      "execution_count": 57,
      "outputs": []
    }
  ]
}