{
  "nbformat": 4,
  "nbformat_minor": 0,
  "metadata": {
    "colab": {
      "provenance": [],
      "authorship_tag": "ABX9TyNGn0Rmp3HI/yGN2xf3HkrZ",
      "include_colab_link": true
    },
    "kernelspec": {
      "name": "python3",
      "display_name": "Python 3"
    },
    "language_info": {
      "name": "python"
    }
  },
  "cells": [
    {
      "cell_type": "markdown",
      "metadata": {
        "id": "view-in-github",
        "colab_type": "text"
      },
      "source": [
        "<a href=\"https://colab.research.google.com/github/Renato-55/AdventureOfCode/blob/main/2022_Day8.ipynb\" target=\"_parent\"><img src=\"https://colab.research.google.com/assets/colab-badge.svg\" alt=\"Open In Colab\"/></a>"
      ]
    },
    {
      "cell_type": "code",
      "execution_count": 2,
      "metadata": {
        "id": "MQL2LJNIW-Xu"
      },
      "outputs": [],
      "source": [
        "l = [\n",
        "    [3,0,3,7,3],\n",
        "    [2,5,5,1,2], \n",
        "    [6,5,3,3,2],\n",
        "    [3,3,5,4,9],\n",
        "    [3,5,3,9,0]\n",
        "]"
      ]
    },
    {
      "cell_type": "code",
      "source": [
        "print(l)"
      ],
      "metadata": {
        "colab": {
          "base_uri": "https://localhost:8080/"
        },
        "id": "yVhbjytpXUdk",
        "outputId": "5dd47d4f-ca0f-4e7f-af43-933f3c6e236c"
      },
      "execution_count": 3,
      "outputs": [
        {
          "output_type": "stream",
          "name": "stdout",
          "text": [
            "[[3, 0, 3, 7, 3], [2, 5, 5, 1, 2], [6, 5, 3, 3, 2], [3, 3, 5, 4, 9], [3, 5, 3, 9, 0]]\n"
          ]
        }
      ]
    },
    {
      "cell_type": "code",
      "source": [
        "count = 0\n",
        "for i in range(0,len(l)):\n",
        "  number = []\n",
        "  for j in range(0,len(l)):\n",
        "    up,down,right,left = j-1,j+1,i+1,i-1\n",
        "    number.append(l[i][j])\n",
        "  print(number)"
      ],
      "metadata": {
        "colab": {
          "base_uri": "https://localhost:8080/"
        },
        "id": "U01G6JycXdCr",
        "outputId": "9c9fd237-d9ca-422a-86e2-8529e0e3672c"
      },
      "execution_count": 9,
      "outputs": [
        {
          "output_type": "stream",
          "name": "stdout",
          "text": [
            "[5, 5, 1]\n",
            "[5, 3, 3]\n",
            "[3, 5, 4]\n"
          ]
        }
      ]
    },
    {
      "cell_type": "code",
      "source": [
        "def visible_from_left(_i,_j,data):\n",
        "  for i in range(0,_i):\n",
        "    if data[i][_j] > data[_i][_j]:\n",
        "      return 0\n",
        "  return 1\n",
        "\n",
        "def visible_from_right(_i,_j,data):\n",
        "  for i in range(_i,len(data)):\n",
        "    if data[i][_j] > data[_i][_j]:\n",
        "      return 0\n",
        "  return 1\n",
        "\n",
        "def visible_from_up(_i,_j,data):\n",
        "  for j in range(0,_j):\n",
        "    if data[_i][j] > data[_i][_j]:\n",
        "      return 0\n",
        "  return 1\n",
        "\n",
        "def visible_from_down(_i,_j,data):\n",
        "  for j in range(_j,len(data[0])):\n",
        "    if data[_i][j] > data[_i][_j]:\n",
        "      return 0\n",
        "  return 1\n",
        "\n",
        "def count_visible_trees(data):\n",
        "  count = len(data)*2 + len(data[0])*2 - 4# outside trees \n",
        "  print(count)\n",
        "\n",
        "  # we need to count the inside grid trees\n",
        "  for i in range(1,len(data)-1):\n",
        "    for j in range(1,len(data[0])-1):\n",
        "      # each tree can be visible from the left, right, down and top\n",
        "      count += (visible_from_left(i,j,data) or visible_from_right(i,j,data) or visible_from_up(i,j,data) or visible_from_down(i,j,data)) \n",
        "      \n",
        "  return count \n",
        "\n",
        "\n",
        "count = count_visible_trees(l)\n",
        "count"
      ],
      "metadata": {
        "colab": {
          "base_uri": "https://localhost:8080/"
        },
        "id": "iA2Lgd6kYtOj",
        "outputId": "a84b1753-70da-4c04-eccb-14ecfda8ec04"
      },
      "execution_count": 26,
      "outputs": [
        {
          "output_type": "stream",
          "name": "stdout",
          "text": [
            "16\n"
          ]
        },
        {
          "output_type": "execute_result",
          "data": {
            "text/plain": [
              "23"
            ]
          },
          "metadata": {},
          "execution_count": 26
        }
      ]
    },
    {
      "cell_type": "code",
      "source": [
        "count "
      ],
      "metadata": {
        "id": "-BchkWK8YTFV"
      },
      "execution_count": null,
      "outputs": []
    }
  ]
}