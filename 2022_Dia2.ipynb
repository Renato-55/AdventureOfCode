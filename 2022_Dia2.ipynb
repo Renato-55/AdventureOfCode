{
  "nbformat": 4,
  "nbformat_minor": 0,
  "metadata": {
    "colab": {
      "provenance": [],
      "authorship_tag": "ABX9TyO7GylojvCyYwiYRObwww9a",
      "include_colab_link": true
    },
    "kernelspec": {
      "name": "python3",
      "display_name": "Python 3"
    },
    "language_info": {
      "name": "python"
    }
  },
  "cells": [
    {
      "cell_type": "markdown",
      "metadata": {
        "id": "view-in-github",
        "colab_type": "text"
      },
      "source": [
        "<a href=\"https://colab.research.google.com/github/Renato-55/AdventureOfCode/blob/main/2022_Dia2.ipynb\" target=\"_parent\"><img src=\"https://colab.research.google.com/assets/colab-badge.svg\" alt=\"Open In Colab\"/></a>"
      ]
    },
    {
      "cell_type": "code",
      "execution_count": 59,
      "metadata": {
        "colab": {
          "base_uri": "https://localhost:8080/"
        },
        "id": "NJcpgv3rrSB0",
        "outputId": "9ca5dbdb-7b1c-4b65-8d98-ab16c02d194b"
      },
      "outputs": [
        {
          "output_type": "stream",
          "name": "stdout",
          "text": [
            "15\n"
          ]
        }
      ],
      "source": [
        "from functools import reduce\n",
        "#opponent_plays = {\"A\":\"Rock\",\"B\":\"Paper\",\"C\":\"Scissors\"}\n",
        "#my_plays = {\"X\":\"Rock\",\"Y\":\"Paper\",\"Z\":\"Scissors\"}\n",
        "opponent_plays = [\"A\",\"B\",\"C\"]\n",
        "my_plays = [\"X\",\"Y\",\"Z\"]\n",
        "guide = [ [\"A\",\"Y\"], [\"B\",\"X\"], [\"C\",\"Z\"]]\n",
        "\n",
        "# i will use the index to calculate the return value \n",
        "def find_in_list(val,l):\n",
        "  return [ {x:idx+1} for idx,x in enumerate(l) if val == x]\n",
        "\n",
        "\"\"\"\n",
        "Basically there are 3 possibilaties \n",
        "opponent play == my_play, 3 points for draw and bonus points of because of my play [1 for rock,2 for paper...]\n",
        "opponent play > my_play and abs(op,my)=1, this means the opponent played Paper or Scissors and i´ve played rock or paper respectively, i only gain points because of my play\n",
        "in every other possibilatie I win 6 points for win and bonus points because of my play\n",
        "\"\"\"\n",
        "def check_winner_points(op,my):\n",
        "  op_index = [value for key, value in op[0].items()]\n",
        "  my_index = [value for key, value in my[0].items()]\n",
        "\n",
        "  points = 3+my_index[0] if op_index[0]==my_index[0] else my_index[0] if abs(op_index[0]-my_index[0])==1 and op_index[0]>my_index[0] else 6+my_index[0]\n",
        "  return points\n",
        "\n",
        "# example of op_play = [{'A': 1}], 'A' means rock  and 1 its the point of the rock\n",
        "# example of my_play = [{'Y': 2}], 'Y' means paper and 2 its the point of the paper\n",
        "def calc_round(round_play,my_plays,opponent_plays):\n",
        "  op_play = find_in_list(round_play[0],opponent_plays)\n",
        "  my_play = find_in_list(round_play[1],my_plays)\n",
        "  return check_winner_points(op_play,my_play)\n",
        "\n",
        "def calc_score(guide,my_plays,opponent_plays):\n",
        "  return reduce(lambda a,b: a+b, [calc_round(play,my_plays,opponent_plays) for play in guide])\n",
        "\n",
        "print(calc_score(guide,my_plays,opponent_plays))"
      ]
    }
  ]
}