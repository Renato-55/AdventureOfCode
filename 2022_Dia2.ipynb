{
  "nbformat": 4,
  "nbformat_minor": 0,
  "metadata": {
    "colab": {
      "provenance": [],
      "authorship_tag": "ABX9TyPRi0jHL3/hw383YorrTABl",
      "include_colab_link": true
    },
    "kernelspec": {
      "name": "python3",
      "display_name": "Python 3"
    },
    "language_info": {
      "name": "python"
    }
  },
  "cells": [
    {
      "cell_type": "markdown",
      "metadata": {
        "id": "view-in-github",
        "colab_type": "text"
      },
      "source": [
        "<a href=\"https://colab.research.google.com/github/Renato-55/AdventureOfCode/blob/main/2022_Dia2.ipynb\" target=\"_parent\"><img src=\"https://colab.research.google.com/assets/colab-badge.svg\" alt=\"Open In Colab\"/></a>"
      ]
    },
    {
      "cell_type": "code",
      "execution_count": 19,
      "metadata": {
        "colab": {
          "base_uri": "https://localhost:8080/"
        },
        "id": "NJcpgv3rrSB0",
        "outputId": "eb7f236c-f669-442d-98aa-88074097bb2d"
      },
      "outputs": [
        {
          "output_type": "stream",
          "name": "stdout",
          "text": [
            "15\n"
          ]
        }
      ],
      "source": [
        "from functools import reduce\n",
        "#opponent_plays = {\"A\":\"Rock\",\"B\":\"Paper\",\"C\":\"Scissors\"}\n",
        "#my_plays = {\"X\":\"Rock\",\"Y\":\"Paper\",\"Z\":\"Scissors\"}\n",
        "opponent_plays = [\"A\",\"B\",\"C\"]\n",
        "my_plays = [\"X\",\"Y\",\"Z\"]\n",
        "guide = [ [\"A\",\"Y\"], [\"B\",\"X\"], [\"C\",\"Z\"]]\n",
        "# i will use the index to calculate the return value \n",
        "def find_in_list(val,l):\n",
        "  return [ {x:idx+1} for idx,x in enumerate(l) if val == x]\n",
        "\n",
        "\"\"\"\n",
        "Basically there are 3 possibilaties \n",
        "opponent play == my_play, 3 points for draw and bonus points of because of my play [1 for rock,2 for paper...]\n",
        "opponent play > my_play and abs(op,my)=1, this means the opponent played Paper or Scissors and i´ve played rock or paper respectively, i only gain points because of my play\n",
        "in every other possibilatie I win 6 points for win and bonus points because of my play\n",
        "\"\"\"\n",
        "def check_winner_points(op,my):\n",
        "  op_index = [value for key, value in op[0].items()]\n",
        "  my_index = [value for key, value in my[0].items()]\n",
        "\n",
        "  points = 3+my_index[0] if op_index[0]==my_index[0] else my_index[0] if abs(op_index[0]-my_index[0])==1 and op_index[0]>my_index[0] else  my_index[0] if abs(op_index[0]-my_index[0])==2 and my_index[0] > op_index[0] else 6+my_index[0]\n",
        "  return points\n",
        "\n",
        "# example of op_play = [{'A': 1}], 'A' means rock  and 1 its the point of the rock\n",
        "# example of my_play = [{'Y': 2}], 'Y' means paper and 2 its the point of the paper\n",
        "def calc_round(round_play,my_plays,opponent_plays):\n",
        "  op_play = find_in_list(round_play[0],opponent_plays)\n",
        "  my_play = find_in_list(round_play[1],my_plays)\n",
        "  return check_winner_points(op_play,my_play)\n",
        "\n",
        "def calc_score(guide,my_plays,opponent_plays):\n",
        "  return reduce(lambda a,b: a+b, [calc_round(play,my_plays,opponent_plays) for play in guide])\n",
        "\n",
        "print(calc_score(guide,my_plays,opponent_plays))"
      ]
    },
    {
      "cell_type": "code",
      "source": [
        "plays = [ [x,y] for x in opponent_plays for y in my_plays]\n",
        "def change_my_plays(plays,opponent_plays,my_plays):\n",
        "  new_guide = []\n",
        "  results = {'X':-1,'Y':0,'Z':1}\n",
        "  tradutor_abc = {'A': 'Rock','B':'Paper','C':'Scissors'}\n",
        "  tradutor_xyz = {0: 'Rock',1:'Paper',2:'Scissors'}\n",
        "\n",
        "  for play in plays:\n",
        "    my_new_play = opponent_plays.index(play[0]) + results.get(play[1])\n",
        "    my_new_play = my_new_play%3 \n",
        "    #print(\"Play 0 = \",tradutor_abc.get(play[0]) ,\"my_new_play\",tradutor_xyz.get(my_new_play))\n",
        "    new_play = [play[0],my_plays[my_new_play]]\n",
        "    new_guide.append(new_play)\n",
        "\n",
        "  return new_guide\n",
        "\n",
        "print(\"Old guide: \", plays)\n",
        "print(\"New guide: \", change_my_plays(plays,opponent_plays,my_plays))"
      ],
      "metadata": {
        "colab": {
          "base_uri": "https://localhost:8080/"
        },
        "id": "roLFcNMSQSGk",
        "outputId": "62563c39-2648-460d-b7a2-43602ba832be"
      },
      "execution_count": 44,
      "outputs": [
        {
          "output_type": "stream",
          "name": "stdout",
          "text": [
            "Old guide:  [['A', 'X'], ['A', 'Y'], ['A', 'Z'], ['B', 'X'], ['B', 'Y'], ['B', 'Z'], ['C', 'X'], ['C', 'Y'], ['C', 'Z']]\n",
            "New guide:  [['A', 'Z'], ['A', 'X'], ['A', 'Y'], ['B', 'X'], ['B', 'Y'], ['B', 'Z'], ['C', 'Y'], ['C', 'Z'], ['C', 'X']]\n"
          ]
        }
      ]
    },
    {
      "cell_type": "code",
      "source": [
        "change_my_plays(plays,opponent_plays,my_plays)"
      ],
      "metadata": {
        "id": "kGldtKulUhn_"
      },
      "execution_count": null,
      "outputs": []
    },
    {
      "cell_type": "code",
      "source": [
        "f = open(\"/content/day2.txt\", \"r\")\n",
        "awnsers = []\n",
        "for x in f:\n",
        "  awnsers.append(x.split())\n",
        "\n",
        "awnsers = change_my_plays(awnsers,opponent_plays,my_plays)\n",
        "print(calc_score(awnsers,my_plays,opponent_plays))"
      ],
      "metadata": {
        "colab": {
          "base_uri": "https://localhost:8080/"
        },
        "id": "stjyhonwUkl6",
        "outputId": "5302445f-cacb-4944-e175-33c49c511441"
      },
      "execution_count": 45,
      "outputs": [
        {
          "output_type": "stream",
          "name": "stdout",
          "text": [
            "13187\n"
          ]
        }
      ]
    }
  ]
}