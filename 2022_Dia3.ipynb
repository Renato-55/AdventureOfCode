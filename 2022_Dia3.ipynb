{
  "nbformat": 4,
  "nbformat_minor": 0,
  "metadata": {
    "colab": {
      "provenance": [],
      "authorship_tag": "ABX9TyOHT0B8lTVy1O3FO1bYQ9iC",
      "include_colab_link": true
    },
    "kernelspec": {
      "name": "python3",
      "display_name": "Python 3"
    },
    "language_info": {
      "name": "python"
    }
  },
  "cells": [
    {
      "cell_type": "markdown",
      "metadata": {
        "id": "view-in-github",
        "colab_type": "text"
      },
      "source": [
        "<a href=\"https://colab.research.google.com/github/Renato-55/AdventureOfCode/blob/main/2022_Dia3.ipynb\" target=\"_parent\"><img src=\"https://colab.research.google.com/assets/colab-badge.svg\" alt=\"Open In Colab\"/></a>"
      ]
    },
    {
      "cell_type": "code",
      "execution_count": 111,
      "metadata": {
        "id": "tAerEnjqDc3S"
      },
      "outputs": [],
      "source": [
        "rucksack = [\"vJrwpWtwJgWrhcsFMMfFFhFp\",\"jqHRNqRjqzjGDLGLrsFMfFZSrLrFZsSL\",\"PmmdzqPrVvPwwTWBwg\",\"wMqvLMZHhHMvwLHjbvcjnnSBnvTQFn\",\"ttgJtRGJQctTZtZT\",\"CrZsJsPPZsGzwwsLwLmpwMDw\"]\n",
        "import functools\n",
        "def splitstring(value):\n",
        "    string1, string2 = value[:len(value)//2], value[len(value)//2:]\n",
        "    return string1, string2\n",
        "\n",
        "def get_char_prioritie(char):\n",
        "  return ord(char)-96 if char.islower() else ord(char)-38\n",
        "\n",
        "def count_item_in_rucksack(rucksack):\n",
        "  sum = 0\n",
        "  for x in rucksack:\n",
        "    first_half,second_half = splitstring(x)\n",
        "    \n",
        "    match = list(filter(lambda x : x in second_half,first_half))[0]\n",
        "    sum += get_char_prioritie(match)\n",
        "  return sum\n",
        "\n",
        "def count_item_in_rucksack_part2(rucksack):\n",
        "  sum = 0 \n",
        "  for i in range(0,int(len(rucksack)/3)):\n",
        "    group_number = i*3\n",
        "\n",
        "    first_match  = list(filter(lambda x : x in rucksack[group_number+1],rucksack[group_number]))\n",
        "    second_match = list(filter(lambda x : x in rucksack[group_number+2],first_match))\n",
        "    sum += get_char_prioritie(second_match[0])\n",
        "  return sum\n"
      ]
    },
    {
      "cell_type": "code",
      "source": [
        "count_item_in_rucksack_part2(rucksack)"
      ],
      "metadata": {
        "colab": {
          "base_uri": "https://localhost:8080/"
        },
        "id": "fq0zeNuOL7MY",
        "outputId": "5894ebcb-2556-4de0-c4fb-cf78fb48185e"
      },
      "execution_count": 112,
      "outputs": [
        {
          "output_type": "execute_result",
          "data": {
            "text/plain": [
              "70"
            ]
          },
          "metadata": {},
          "execution_count": 112
        }
      ]
    },
    {
      "cell_type": "code",
      "source": [
        "f = open(\"/content/day3_part2.txt\", \"r\")\n",
        "awnsers = [x for x in f]\n",
        "\n",
        "print(count_item_in_rucksack(awnsers))"
      ],
      "metadata": {
        "colab": {
          "base_uri": "https://localhost:8080/"
        },
        "id": "rvTy4pluF_Kh",
        "outputId": "5f68e636-c3f5-4be4-8826-c371d9b85c3c"
      },
      "execution_count": 82,
      "outputs": [
        {
          "output_type": "stream",
          "name": "stdout",
          "text": [
            "7848\n"
          ]
        }
      ]
    },
    {
      "cell_type": "code",
      "source": [
        "print(count_item_in_rucksack_part2(awnsers))"
      ],
      "metadata": {
        "colab": {
          "base_uri": "https://localhost:8080/"
        },
        "id": "sQOj4rqjKUFg",
        "outputId": "f31ca8fb-b3ce-4551-9796-34dee8606971"
      },
      "execution_count": 114,
      "outputs": [
        {
          "output_type": "stream",
          "name": "stdout",
          "text": [
            "2616\n"
          ]
        }
      ]
    }
  ]
}