{
  "nbformat": 4,
  "nbformat_minor": 0,
  "metadata": {
    "colab": {
      "provenance": [],
      "authorship_tag": "ABX9TyPoNvZCtDGZqh+yHU0hypmA",
      "include_colab_link": true
    },
    "kernelspec": {
      "name": "python3",
      "display_name": "Python 3"
    },
    "language_info": {
      "name": "python"
    }
  },
  "cells": [
    {
      "cell_type": "markdown",
      "metadata": {
        "id": "view-in-github",
        "colab_type": "text"
      },
      "source": [
        "<a href=\"https://colab.research.google.com/github/Renato-55/AdventureOfCode/blob/main/2022_Day1.ipynb\" target=\"_parent\"><img src=\"https://colab.research.google.com/assets/colab-badge.svg\" alt=\"Open In Colab\"/></a>"
      ]
    },
    {
      "cell_type": "code",
      "source": [
        "from functools import reduce\n",
        "# data\n",
        "l = [[1000,2000,3000], [4000],[5000,6000],[7000,8000,9000],[10000]]\n",
        "\n",
        "# solution 1 - store information about each elf\n",
        "def storeData (elf_list):\n",
        "  return [calcElfCal(idx,x) for idx,x in enumerate(elf_list)]\n",
        "\n",
        "def calcElfCal(idx,elf):\n",
        "  return [reduce(lambda a,b: a+b, elf),idx]\n",
        "\n",
        "print(max(storeData(l)))"
      ],
      "metadata": {
        "colab": {
          "base_uri": "https://localhost:8080/"
        },
        "id": "OMVm4BRqpAoi",
        "outputId": "a73c6d6e-1a23-4a8a-c69f-b3a1482754d6"
      },
      "execution_count": 16,
      "outputs": [
        {
          "output_type": "stream",
          "name": "stdout",
          "text": [
            "[24000, 3]\n"
          ]
        }
      ]
    },
    {
      "cell_type": "code",
      "source": [
        "from functools import reduce\n",
        "# data\n",
        "l = [[1000,2000,3000], [4000],[5000,6000],[7000,8000,9000],[10000]]\n",
        "\n",
        "# solution 2 - retrieve max value\n",
        "def storeData (elf_list):\n",
        "  return reduce(lambda a,b: a if a[0] > b[0] else b, [calcElfCal(idx,x) for idx,x in enumerate(elf_list)])\n",
        "\n",
        "def calcElfCal(idx,elf):\n",
        "  return [reduce(lambda a,b: a+b, elf),idx]\n",
        "\n",
        "print(storeData(l))"
      ],
      "metadata": {
        "colab": {
          "base_uri": "https://localhost:8080/"
        },
        "id": "0eHEJoBipqOv",
        "outputId": "7bf8d1ea-0f18-4ee7-db5e-a6b13b49dd02"
      },
      "execution_count": 21,
      "outputs": [
        {
          "output_type": "stream",
          "name": "stdout",
          "text": [
            "[24000, 3]\n"
          ]
        }
      ]
    }
  ]
}