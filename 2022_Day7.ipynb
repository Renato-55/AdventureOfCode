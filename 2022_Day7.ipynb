{
  "nbformat": 4,
  "nbformat_minor": 0,
  "metadata": {
    "colab": {
      "provenance": [],
      "authorship_tag": "ABX9TyMx52Y7lQDD4c09Xl9v4Xvw",
      "include_colab_link": true
    },
    "kernelspec": {
      "name": "python3",
      "display_name": "Python 3"
    },
    "language_info": {
      "name": "python"
    }
  },
  "cells": [
    {
      "cell_type": "markdown",
      "metadata": {
        "id": "view-in-github",
        "colab_type": "text"
      },
      "source": [
        "<a href=\"https://colab.research.google.com/github/Renato-55/AdventureOfCode/blob/main/2022_Day7.ipynb\" target=\"_parent\"><img src=\"https://colab.research.google.com/assets/colab-badge.svg\" alt=\"Open In Colab\"/></a>"
      ]
    },
    {
      "cell_type": "code",
      "execution_count": 1,
      "metadata": {
        "id": "MltTOWQyVxce"
      },
      "outputs": [],
      "source": [
        "sample_example = [\n",
        "\"$ cd /\",\"$ ls\",\"dir a\",\"14848514 b.txt\",\"8504156 c.dat\",\"dir d\",\"$ cd a\",\n",
        "\"$ ls\",\n",
        "\"dir e\",\n",
        "\"29116 f\",\n",
        "\"2557 g\",\n",
        "\"62596 h.lst\",\n",
        "\"$ cd e\",\n",
        "\"$ ls\",\n",
        "\"584 i\",\n",
        "\"$ cd ..\",\n",
        "\"$ cd ..\",\n",
        "\"$ cd d\",\n",
        "\"$ ls\",\n",
        "\"4060174 j\",\n",
        "\"8033020 d.log\",\n",
        "\"5626152 d.ext\",\n",
        "\"7214296 k\",\n",
        "#adicionei\n",
        "\"$ cd ..\",\n",
        "\"1 meuficheiro\"\n",
        "]"
      ]
    },
    {
      "cell_type": "code",
      "source": [
        "def organize_data(data):\n",
        "  dirs = []\n",
        "  i = 0\n",
        "  id = 0\n",
        "  \n",
        "  dirs_percorridos = []\n",
        "\n",
        "  while (i < len(data)):\n",
        "    line = data[i]\n",
        "\n",
        "    if line.startswith(\"$\"):\n",
        "      line = line.replace(\"$ \",\"\")\n",
        "      if line != \"ls\":\n",
        "        line = line.replace(\"cd \",\"\")\n",
        "        if line != \"..\":\n",
        "          id += 1\n",
        "          dir = {\"name\":line, \"child_dir\":[], \"files_name\":[],\"dir_size\": 0, \"id\":id} \n",
        "\n",
        "          if dirs: # if is is not the root\n",
        "            for j in range(0,len(dirs)):\n",
        "              if dirs[j][\"id\"] == dirs_percorridos[-1]:\n",
        "                dirs[j][\"child_dir\"].append(id)\n",
        "            \n",
        "          dirs_percorridos.append(id)\n",
        "\n",
        "          dirs.append(dir)\n",
        "        elif line == \"..\" :\n",
        "          dirs_percorridos.pop()\n",
        "    elif line.startswith(\"dir\") == False:\n",
        "      file_size, file_name = line.split()\n",
        "      if dirs: # if is is not the root\n",
        "        for j in range(0,len(dirs)):\n",
        "          if dirs[j][\"id\"] == dirs_percorridos[-1]:\n",
        "            dirs[j][\"files_name\"].append(file_name)\n",
        "            dirs[j][\"dir_size\"] += int(file_size)\n",
        "\n",
        "    i+=1\n",
        "\n",
        "  return dirs"
      ],
      "metadata": {
        "id": "MLlG-ZeqWZZZ"
      },
      "execution_count": 2,
      "outputs": []
    },
    {
      "cell_type": "code",
      "source": [
        "def add_child_sizes(data):\n",
        "  flag = True\n",
        "  while(flag):\n",
        "    flag = False\n",
        "    for dir in data:\n",
        "      if dir['child_dir']: \n",
        "        pass\n",
        "      else: # doesnt have childs\n",
        "        for b in data:\n",
        "          if dir['id'] in b['child_dir']:\n",
        "            flag = True\n",
        "            b['child_dir'].remove(dir['id'])\n",
        "            b['dir_size'] += dir['dir_size']\n",
        "\n",
        "  return data\n",
        "\n",
        "sample_list = organize_data(sample_example)\n",
        "sample_list = add_child_sizes(sample_list)\n",
        "\n",
        "count = 0\n",
        "for x in sample_list:\n",
        "  if x['dir_size'] <= 100000:\n",
        "    count += x['dir_size']\n",
        "\n",
        "count"
      ],
      "metadata": {
        "colab": {
          "base_uri": "https://localhost:8080/"
        },
        "id": "2egmA_P7VZ7D",
        "outputId": "f92f11f0-6b0d-4d88-9b91-832ecb201b6e"
      },
      "execution_count": 15,
      "outputs": [
        {
          "output_type": "execute_result",
          "data": {
            "text/plain": [
              "95437"
            ]
          },
          "metadata": {},
          "execution_count": 15
        }
      ]
    },
    {
      "cell_type": "code",
      "source": [
        "update_needed_size = sample_list[0]['dir_size'] + 30000000 - 70000000\n",
        "\n",
        "min = sample_list[0]['dir_size'] # the dir that ocupies more space\n",
        "\n",
        "for x in sample_list:\n",
        "  if x['dir_size'] <= min and update_needed_size <= x['dir_size']:\n",
        "    dir = x\n",
        "    min = x['dir_size']\n",
        "\n",
        "print(min,dir)"
      ],
      "metadata": {
        "colab": {
          "base_uri": "https://localhost:8080/"
        },
        "id": "TFt_pwhznOmL",
        "outputId": "c3e0de13-6570-4f3e-ba08-6d43cb0ee09a"
      },
      "execution_count": 16,
      "outputs": [
        {
          "output_type": "stream",
          "name": "stdout",
          "text": [
            "24933642 {'name': 'd', 'child_dir': [], 'files_name': ['j', 'd.log', 'd.ext', 'k'], 'dir_size': 24933642, 'id': 4}\n"
          ]
        }
      ]
    },
    {
      "cell_type": "code",
      "source": [
        "f = open(\"/content/Day7.txt\", \"r\")\n",
        "awnsers = []\n",
        "for x in f:\n",
        "  x = x.replace(\"\\n\",\"\")\n",
        "  awnsers.append(x)"
      ],
      "metadata": {
        "id": "Zd3uhcJ6nhqn"
      },
      "execution_count": 18,
      "outputs": []
    },
    {
      "cell_type": "code",
      "source": [
        "sample_list = organize_data(awnsers)\n",
        "sample_list = add_child_sizes(sample_list)\n",
        "\n",
        "count = 0\n",
        "for x in sample_list:\n",
        "  if x['dir_size'] <= 100000:\n",
        "    count += x['dir_size']\n",
        "\n",
        "count"
      ],
      "metadata": {
        "colab": {
          "base_uri": "https://localhost:8080/"
        },
        "id": "G-TFmDx2Yilq",
        "outputId": "9e03f0b2-8032-4cdb-95e2-ec0b5e0386b0"
      },
      "execution_count": 19,
      "outputs": [
        {
          "output_type": "execute_result",
          "data": {
            "text/plain": [
              "1444896"
            ]
          },
          "metadata": {},
          "execution_count": 19
        }
      ]
    },
    {
      "cell_type": "code",
      "source": [
        "update_needed_size = sample_list[0]['dir_size'] + 30000000 - 70000000\n",
        "\n",
        "min = sample_list[0]['dir_size'] # the dir that ocupies more space\n",
        "\n",
        "for x in sample_list:\n",
        "  if x['dir_size'] <= min and update_needed_size <= x['dir_size']:\n",
        "    dir = x\n",
        "    min = x['dir_size']\n",
        "\n",
        "print(min,dir)"
      ],
      "metadata": {
        "colab": {
          "base_uri": "https://localhost:8080/"
        },
        "id": "CeTtoExpiAw7",
        "outputId": "9cab2b84-c982-4d86-8807-45f79dcd7d76"
      },
      "execution_count": 20,
      "outputs": [
        {
          "output_type": "stream",
          "name": "stdout",
          "text": [
            "404395 {'name': 'mdclfbs', 'child_dir': [], 'files_name': ['bnl.jwf', 'hznfj.nmj', 'lmw.bfz'], 'dir_size': 404395, 'id': 67}\n"
          ]
        }
      ]
    }
  ]
}