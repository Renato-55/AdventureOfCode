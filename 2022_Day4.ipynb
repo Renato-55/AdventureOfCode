{
  "nbformat": 4,
  "nbformat_minor": 0,
  "metadata": {
    "colab": {
      "provenance": [],
      "authorship_tag": "ABX9TyP0OUeId3OADogmxhULCe52",
      "include_colab_link": true
    },
    "kernelspec": {
      "name": "python3",
      "display_name": "Python 3"
    },
    "language_info": {
      "name": "python"
    }
  },
  "cells": [
    {
      "cell_type": "markdown",
      "metadata": {
        "id": "view-in-github",
        "colab_type": "text"
      },
      "source": [
        "<a href=\"https://colab.research.google.com/github/Renato-55/AdventureOfCode/blob/main/2022_Day4.ipynb\" target=\"_parent\"><img src=\"https://colab.research.google.com/assets/colab-badge.svg\" alt=\"Open In Colab\"/></a>"
      ]
    },
    {
      "cell_type": "code",
      "source": [
        "f = open(\"/content/day4.txt\", \"r\")\n",
        "\n",
        "awnsers = []\n",
        "for x in f:\n",
        "  first_half,second_half = x.split(\",\")\n",
        "  second_half = second_half.replace(\"\\n\",\"\")\n",
        "  first_half  = first_half.split(\"-\")\n",
        "  second_half = second_half.split(\"-\")\n",
        "  first_half = [int(x) for x in first_half]\n",
        "  second_half = [int(x) for x in second_half]\n",
        "  awnsers.append([first_half,second_half])"
      ],
      "metadata": {
        "id": "4IAd-s7lfCvL"
      },
      "execution_count": 21,
      "outputs": []
    },
    {
      "cell_type": "code",
      "source": [
        "count = 0\n",
        "for x in awnsers:\n",
        "  first_half  = x[0]\n",
        "  second_half = x[1]\n",
        "  if first_half[0] <= second_half[0] and first_half[1] >= second_half[1]:\n",
        "    count = count + 1\n",
        "  elif second_half[0] <= first_half[0] and second_half[1] >= first_half[1]:\n",
        "    count = count + 1\n",
        "\n",
        "print(count)\n",
        "#565"
      ],
      "metadata": {
        "colab": {
          "base_uri": "https://localhost:8080/"
        },
        "id": "RV0BBx_kfOZQ",
        "outputId": "bed76262-e570-417f-b2a3-dbd979d80e24"
      },
      "execution_count": 37,
      "outputs": [
        {
          "output_type": "stream",
          "name": "stdout",
          "text": [
            "605\n"
          ]
        }
      ]
    },
    {
      "cell_type": "code",
      "source": [
        "count = 0\n",
        "for x in awnsers:\n",
        "  first_half  = x[0]\n",
        "  second_half = x[1]\n",
        "  if first_half[0] <= second_half[0] and first_half[1] >= second_half[0]:\n",
        "    count = count + 1\n",
        "  elif first_half[0] <= second_half[1] and first_half[1] >= second_half[1]:\n",
        "    count = count + 1\n",
        "  elif second_half[0] <= first_half[0] and second_half[1] >= first_half[0]:\n",
        "    count = count + 1\n",
        "  elif second_half[0] <= first_half[1] and second_half[1] >= first_half[1]:\n",
        "    count = count + 1 \n",
        "\n",
        "print(count)"
      ],
      "metadata": {
        "colab": {
          "base_uri": "https://localhost:8080/"
        },
        "id": "QkN1h3YJlG0f",
        "outputId": "e3a8834e-53d9-42c8-eab5-714aae632695"
      },
      "execution_count": 46,
      "outputs": [
        {
          "output_type": "stream",
          "name": "stdout",
          "text": [
            "914\n"
          ]
        }
      ]
    },
    {
      "cell_type": "code",
      "source": [
        "l = [ [[2, 4], [6, 8]] ,\n",
        "      [[2, 3], [4, 5]] ,\n",
        "      [[5, 7], [7, 9]] ,\n",
        "      [[2, 8], [3, 7]] ,\n",
        "      [[6, 6], [4, 6]] ,\n",
        "      [[2, 6], [4, 8]]\n",
        "    ]\n",
        "\n",
        "count = 0\n",
        "for x in l:\n",
        "  first_half  = x[0]\n",
        "  second_half = x[1]\n",
        "  if first_half[0] <= second_half[0] and first_half[1] >= second_half[0]:\n",
        "    count = count + 1\n",
        "  elif first_half[0] <= second_half[1] and first_half[1] >= second_half[1]:\n",
        "    count = count + 1\n",
        "  elif second_half[0] <= first_half[0] and second_half[1] >= first_half[0]:\n",
        "    count = count + 1\n",
        "  elif second_half[0] <= first_half[1] and second_half[1] >= first_half[1]:\n",
        "    count = count + 1 \n",
        "\n",
        "print(count)"
      ],
      "metadata": {
        "colab": {
          "base_uri": "https://localhost:8080/"
        },
        "id": "uwSA0jGfiKfY",
        "outputId": "7f8a7bfb-daf8-4277-d275-639f48b143d2"
      },
      "execution_count": 43,
      "outputs": [
        {
          "output_type": "stream",
          "name": "stdout",
          "text": [
            "4\n"
          ]
        }
      ]
    }
  ]
}